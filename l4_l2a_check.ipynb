{
 "cells": [
  {
   "cell_type": "code",
   "execution_count": 1,
   "metadata": {},
   "outputs": [],
   "source": [
    "# import all the modules\n",
    "import h5py\n",
    "import numpy as np\n",
    "import pandas as pd"
   ]
  },
  {
   "cell_type": "code",
   "execution_count": 2,
   "metadata": {},
   "outputs": [
    {
     "data": {
      "text/html": [
       "<div>\n",
       "<style scoped>\n",
       "    .dataframe tbody tr th:only-of-type {\n",
       "        vertical-align: middle;\n",
       "    }\n",
       "\n",
       "    .dataframe tbody tr th {\n",
       "        vertical-align: top;\n",
       "    }\n",
       "\n",
       "    .dataframe thead th {\n",
       "        text-align: right;\n",
       "    }\n",
       "</style>\n",
       "<table border=\"1\" class=\"dataframe\">\n",
       "  <thead>\n",
       "    <tr style=\"text-align: right;\">\n",
       "      <th></th>\n",
       "      <th>agbd</th>\n",
       "      <th>rh_sum</th>\n",
       "    </tr>\n",
       "  </thead>\n",
       "  <tbody>\n",
       "    <tr>\n",
       "      <th>0</th>\n",
       "      <td>-9999.0</td>\n",
       "      <td>0.000000</td>\n",
       "    </tr>\n",
       "    <tr>\n",
       "      <th>1</th>\n",
       "      <td>-9999.0</td>\n",
       "      <td>0.000000</td>\n",
       "    </tr>\n",
       "    <tr>\n",
       "      <th>2</th>\n",
       "      <td>-9999.0</td>\n",
       "      <td>0.000000</td>\n",
       "    </tr>\n",
       "    <tr>\n",
       "      <th>3</th>\n",
       "      <td>-9999.0</td>\n",
       "      <td>0.000000</td>\n",
       "    </tr>\n",
       "    <tr>\n",
       "      <th>4</th>\n",
       "      <td>-9999.0</td>\n",
       "      <td>0.000000</td>\n",
       "    </tr>\n",
       "    <tr>\n",
       "      <th>...</th>\n",
       "      <td>...</td>\n",
       "      <td>...</td>\n",
       "    </tr>\n",
       "    <tr>\n",
       "      <th>155951</th>\n",
       "      <td>-9999.0</td>\n",
       "      <td>-0.090000</td>\n",
       "    </tr>\n",
       "    <tr>\n",
       "      <th>155952</th>\n",
       "      <td>-9999.0</td>\n",
       "      <td>0.000000</td>\n",
       "    </tr>\n",
       "    <tr>\n",
       "      <th>155953</th>\n",
       "      <td>-9999.0</td>\n",
       "      <td>0.000000</td>\n",
       "    </tr>\n",
       "    <tr>\n",
       "      <th>155954</th>\n",
       "      <td>-9999.0</td>\n",
       "      <td>253.229996</td>\n",
       "    </tr>\n",
       "    <tr>\n",
       "      <th>155955</th>\n",
       "      <td>-9999.0</td>\n",
       "      <td>1.330000</td>\n",
       "    </tr>\n",
       "  </tbody>\n",
       "</table>\n",
       "<p>155956 rows × 2 columns</p>\n",
       "</div>"
      ],
      "text/plain": [
       "          agbd      rh_sum\n",
       "0      -9999.0    0.000000\n",
       "1      -9999.0    0.000000\n",
       "2      -9999.0    0.000000\n",
       "3      -9999.0    0.000000\n",
       "4      -9999.0    0.000000\n",
       "...        ...         ...\n",
       "155951 -9999.0   -0.090000\n",
       "155952 -9999.0    0.000000\n",
       "155953 -9999.0    0.000000\n",
       "155954 -9999.0  253.229996\n",
       "155955 -9999.0    1.330000\n",
       "\n",
       "[155956 rows x 2 columns]"
      ]
     },
     "execution_count": 2,
     "metadata": {},
     "output_type": "execute_result"
    }
   ],
   "source": [
    "# GEDI L4a file\n",
    "l4a = 'GEDI04_A_2020324080102_O10975_03_T07840_02_002_02_V002.h5'\n",
    "# GEDI L2a file\n",
    "l2a = 'GEDI02_A_2020324080102_O10975_03_T07840_02_003_02_V002.h5'\n",
    "# read the L4A file\n",
    "with h5py.File(l4a, 'r') as hf:\n",
    "    # reading BEAM0000 agbd\n",
    "    agbd = hf['BEAM0000']['agbd'][:] \n",
    "\n",
    "    # creating a dataframe\n",
    "    df = pd.DataFrame(agbd.tolist(), columns=[\"agbd\"])\n",
    "    \n",
    "with h5py.File(l2a, 'r') as hf:\n",
    "    # reading rh and computing sum\n",
    "    rh = np.sum(hf['BEAM0000']['rh'][:], axis=1) \n",
    "    \n",
    "    # creating a dataframe\n",
    "    df['rh_sum'] = rh.tolist()\n",
    "\n",
    "# print dataframe\n",
    "df"
   ]
  },
  {
   "cell_type": "code",
   "execution_count": 3,
   "metadata": {},
   "outputs": [
    {
     "data": {
      "text/plain": [
       "<matplotlib.axes._subplots.AxesSubplot at 0x11eefa9d0>"
      ]
     },
     "execution_count": 3,
     "metadata": {},
     "output_type": "execute_result"
    },
    {
     "data": {
      "image/png": "[encoded data removed]",
      "text/plain": [
       "<Figure size 432x288 with 1 Axes>"
      ]
     },
     "metadata": {
      "needs_background": "light"
     },
     "output_type": "display_data"
    }
   ],
   "source": [
    "# removing NaN and zero agbd values and rh==0... \n",
    "df[(df.agbd != 0) & (df.agbd != -9999) & (df.rh_sum == 0)].plot()"
   ]
  },
  {
   "cell_type": "markdown",
   "metadata": {},
   "source": [
    "The plot above is empty - there are no rows that has rh_sum == 0 and agbd !=0. "
   ]
  }
 ],
 "metadata": {
  "kernelspec": {
   "display_name": "Python 3",
   "language": "python",
   "name": "python3"
  },
  "language_info": {
   "codemirror_mode": {
    "name": "ipython",
    "version": 3
   },
   "file_extension": ".py",
   "mimetype": "text/x-python",
   "name": "python",
   "nbconvert_exporter": "python",
   "pygments_lexer": "ipython3",
   "version": "3.8.0"
  }
 },
 "nbformat": 4,
 "nbformat_minor": 2
}
