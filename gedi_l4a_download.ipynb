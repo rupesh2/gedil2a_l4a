{
 "cells": [
  {
   "cell_type": "markdown",
   "id": "5adebca9",
   "metadata": {},
   "source": [
    "# Searching and Downloading GEDI L4A Dataset\n",
    "\n",
    "This tutorial will demonstrate how to search and download [Global Ecosystem Dynamics Investigation (GEDI) L4A Footprint Level Aboveground Biomass Density (AGBD)](https://doi.org/10.3334/ORNLDAAC/2056) dataset. GEDI L4A dataset is available for the period starting 2019-04-17 and covers latitudes of 52 North to 52 South. GEDI L4A data files are natively in HDF5 format, and each file represents one International Space Station (ISS) orbit. \n",
    "\n",
    "We will use NASA's Earthdata [Common Metadata Repository (CMR) Application Programming Interface (API)](https://cmr.earthdata.nasa.gov/search) to search for GEDI L4A files or granules. CMR catalogs metadata records of NASA Earth Science data and make them available for easy programmatic access.\n",
    "\n",
    "This tutorial requires the following Python modules installed in your system: `requests`, `datetime`, `pandas`. Requirements are also in [requirements.txt](requirements.txt). To install the necessary Python modules, you can copy the requirements.txt from this repository and run:\n",
    "```bash\n",
    "pip install -r requirements.txt\n",
    "```"
   ]
  },
  {
   "cell_type": "code",
   "execution_count": 1,
   "id": "cfe5c865",
   "metadata": {
    "tags": []
   },
   "outputs": [],
   "source": [
    "%matplotlib inline\n",
    "import requests\n",
    "import datetime as dt \n",
    "import pandas as pd"
   ]
  },
  {
   "cell_type": "markdown",
   "id": "b81e2e5c",
   "metadata": {},
   "source": [
    "## 1. Building granule url\n",
    "\n",
    "NASA EarthData's unique ID for this dataset (called `Concept ID`) is needed for searching the dataset. The dataset Digital Object Identifier or DOI can be used to obtain the `Concept ID`."
   ]
  },
  {
   "cell_type": "code",
   "execution_count": 2,
   "id": "a7b0f34b",
   "metadata": {
    "tags": []
   },
   "outputs": [
    {
     "name": "stdout",
     "output_type": "stream",
     "text": [
      "C2237824918-ORNL_CLOUD\n"
     ]
    }
   ],
   "source": [
    "doi = '10.3334/ORNLDAAC/2056'# GEDI L4A DOI \n",
    "\n",
    "# CMR API base url\n",
    "cmrurl='https://cmr.earthdata.nasa.gov/search/' \n",
    "\n",
    "doisearch = cmrurl + 'collections.json?doi=' + doi\n",
    "response = requests.get(doisearch)\n",
    "response.raise_for_status()\n",
    "concept_id = response.json()['feed']['entry'][0]['id']\n",
    "\n",
    "print(concept_id)"
   ]
  },
  {
   "cell_type": "markdown",
   "id": "1c940877",
   "metadata": {},
   "source": [
    "This is the unique NASA-given concept ID for the GEDI 4A dataset, which can be used to retrieve relevant files (or granules) for GEDI L4A. "
   ]
  },
  {
   "cell_type": "markdown",
   "id": "f523ee2e",
   "metadata": {},
   "source": [
    "The CMR API only allows searching 2000 files at a time. Using `page_num` parameter allows to loop through the search result pages. We will use [pandas dataframe](https://pandas.pydata.org/) to store the download URLs of each file and their bounding geometries."
   ]
  },
  {
   "cell_type": "code",
   "execution_count": 3,
   "id": "0830ba0e",
   "metadata": {
    "tags": []
   },
   "outputs": [
    {
     "name": "stdout",
     "output_type": "stream",
     "text": [
      "Total granules found:  70694\n"
     ]
    }
   ],
   "source": [
    "page_num = 1\n",
    "page_size = 2000 # CMR page size limit\n",
    "\n",
    "granule_arr = []\n",
    "\n",
    "while True:\n",
    "    \n",
    "    # defining parameters\n",
    "    cmr_param = {\n",
    "        \"collection_concept_id\": concept_id, \n",
    "        \"page_size\": page_size,\n",
    "        \"page_num\": page_num\n",
    "    }\n",
    "    \n",
    "    granulesearch = cmrurl + 'granules.json'\n",
    "\n",
    "    response = requests.get(granulesearch, params=cmr_param)\n",
    "    response.raise_for_status()\n",
    "    granules = response.json()['feed']['entry']\n",
    "    \n",
    "    if granules:\n",
    "        for g in granules:\n",
    "            # Get URL to HDF5 files\n",
    "            for links in g['links']:\n",
    "                if 'title' in links and links['title'].startswith('Download') \\\n",
    "                and links['title'].endswith('.h5'):\n",
    "                    granule_url = links['href']\n",
    "                    granule_arr.append(granule_url)\n",
    "               \n",
    "        page_num += 1\n",
    "    else: \n",
    "        break\n",
    "\n",
    "# creating a pandas dataframe\n",
    "l4adf = pd.DataFrame(granule_arr, columns=[\"granule_url\"])\n",
    "print (\"Total granules found: \", len(l4adf.index)-1)"
   ]
  },
  {
   "cell_type": "markdown",
   "id": "17cae45f",
   "metadata": {},
   "source": [
    "Now, we have stored the granule URLs into the pandas dataframe `l4adf`. The first few rows of the table look like the following."
   ]
  },
  {
   "cell_type": "code",
   "execution_count": 4,
   "id": "a4f55d15",
   "metadata": {
    "tags": []
   },
   "outputs": [
    {
     "data": {
      "text/html": [
       "<div>\n",
       "<style scoped>\n",
       "    .dataframe tbody tr th:only-of-type {\n",
       "        vertical-align: middle;\n",
       "    }\n",
       "\n",
       "    .dataframe tbody tr th {\n",
       "        vertical-align: top;\n",
       "    }\n",
       "\n",
       "    .dataframe thead th {\n",
       "        text-align: right;\n",
       "    }\n",
       "</style>\n",
       "<table border=\"1\" class=\"dataframe\">\n",
       "  <thead>\n",
       "    <tr style=\"text-align: right;\">\n",
       "      <th></th>\n",
       "      <th>granule_url</th>\n",
       "    </tr>\n",
       "  </thead>\n",
       "  <tbody>\n",
       "    <tr>\n",
       "      <th>0</th>\n",
       "      <td>https://data.ornldaac.earthdata.nasa.gov/prote...</td>\n",
       "    </tr>\n",
       "    <tr>\n",
       "      <th>1</th>\n",
       "      <td>https://data.ornldaac.earthdata.nasa.gov/prote...</td>\n",
       "    </tr>\n",
       "    <tr>\n",
       "      <th>2</th>\n",
       "      <td>https://data.ornldaac.earthdata.nasa.gov/prote...</td>\n",
       "    </tr>\n",
       "    <tr>\n",
       "      <th>3</th>\n",
       "      <td>https://data.ornldaac.earthdata.nasa.gov/prote...</td>\n",
       "    </tr>\n",
       "    <tr>\n",
       "      <th>4</th>\n",
       "      <td>https://data.ornldaac.earthdata.nasa.gov/prote...</td>\n",
       "    </tr>\n",
       "  </tbody>\n",
       "</table>\n",
       "</div>"
      ],
      "text/plain": [
       "                                         granule_url\n",
       "0  https://data.ornldaac.earthdata.nasa.gov/prote...\n",
       "1  https://data.ornldaac.earthdata.nasa.gov/prote...\n",
       "2  https://data.ornldaac.earthdata.nasa.gov/prote...\n",
       "3  https://data.ornldaac.earthdata.nasa.gov/prote...\n",
       "4  https://data.ornldaac.earthdata.nasa.gov/prote..."
      ]
     },
     "execution_count": 4,
     "metadata": {},
     "output_type": "execute_result"
    }
   ],
   "source": [
    "l4adf.head()"
   ]
  },
  {
   "cell_type": "markdown",
   "id": "c3350e27",
   "metadata": {},
   "source": [
    "## 2. Downloading the files\n",
    "\n",
    "We recommend using utilities such as `cURL` or `wget` to download the files. You will first need to set up NASA Earthdata Login authentication using `.netrc` file. Please refer to this page for details on setting up such authentication: https://wiki.earthdata.nasa.gov/display/EL/How+To+Access+Data+With+cURL+And+Wget.\n",
    "\n",
    "Once the authentication has been setup, the GEDI L4a files can be downloaded as follows.\n",
    "\n",
    "First, save the granule URLs to a file `granules.txt`. "
   ]
  },
  {
   "cell_type": "code",
   "execution_count": 6,
   "id": "8359cbdb",
   "metadata": {
    "tags": []
   },
   "outputs": [],
   "source": [
    "l4adf.to_csv('granules.txt', columns = ['granule_url'], index=False, header = False)"
   ]
  },
  {
   "cell_type": "markdown",
   "id": "bfd1aba3",
   "metadata": {},
   "source": [
    "Either of the following commands can then be issued from the terminal to download the files.\n",
    "\n",
    "#### wget\n",
    "```\n",
    "wget --load-cookies ~/.urs_cookies --save-cookies ~/.urs_cookies --auth-no-challenge=on --keep-session-cookies --content-disposition -nc -i granules.txt\n",
    "```\n",
    "#### curl\n",
    "```\n",
    "cat granules.txt | tr -d '\\r' | xargs -n 1 curl -LJO -n -c ~/.urs_cookies -b ~/.urs_cookies\n",
    "```"
   ]
  }
 ],
 "metadata": {
  "kernelspec": {
   "display_name": "Python 3 (ipykernel)",
   "language": "python",
   "name": "python3"
  },
  "language_info": {
   "codemirror_mode": {
    "name": "ipython",
    "version": 3
   },
   "file_extension": ".py",
   "mimetype": "text/x-python",
   "name": "python",
   "nbconvert_exporter": "python",
   "pygments_lexer": "ipython3",
   "version": "3.9.16"
  }
 },
 "nbformat": 4,
 "nbformat_minor": 5
}
