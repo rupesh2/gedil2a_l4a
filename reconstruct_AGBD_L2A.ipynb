{
 "cells": [
  {
   "cell_type": "markdown",
   "id": "ac6ab217",
   "metadata": {},
   "source": [
    "This tutorial shows how to reconstruct L4A aboveground biomass density (AGBD) estimates using L2A relative height (RH) metrics. We will use a GEDI L4A file `GEDI04_A_2020207182449_O09168_03_T03028_02_002_01_V002.h5` and corresponding GEDI L2A file `GEDI02_A_2020207182449_O09168_03_T03028_02_003_01_V002.h5` for this purpose."
   ]
  },
  {
   "cell_type": "code",
   "execution_count": 1,
   "id": "d7ae1f14",
   "metadata": {},
   "outputs": [],
   "source": [
    "# import all the modules\n",
    "from os import path\n",
    "import h5py\n",
    "import numpy as np"
   ]
  },
  {
   "cell_type": "markdown",
   "id": "a789a5d3",
   "metadata": {},
   "source": [
    "## L4A file and prediction stratum\n",
    "\n",
    "First, open the L4A file:"
   ]
  },
  {
   "cell_type": "code",
   "execution_count": 2,
   "id": "1bf96a8d",
   "metadata": {},
   "outputs": [],
   "source": [
    "# GEDI L4a file\n",
    "l4a = 'GEDI04_A_2020207182449_O09168_03_T03028_02_002_01_V002.h5'\n",
    "l4af = path.join('full_orbits', l4a)\n",
    "# read the L4A file\n",
    "hf_l4a = h5py.File(l4af, 'r')"
   ]
  },
  {
   "cell_type": "markdown",
   "id": "480dadf4",
   "metadata": {},
   "source": [
    "This tutorial will use data for a single shot (shot number `91680600300633870`) from the beam `BEAM0110`. Let's find out its predict_stratum and selected_algorithm."
   ]
  },
  {
   "cell_type": "code",
   "execution_count": 3,
   "id": "93d059c3",
   "metadata": {},
   "outputs": [
    {
     "name": "stdout",
     "output_type": "stream",
     "text": [
      "For GEDI shot number 91680600300633870, the predict stratum is EBT_SAs, and the selected algorithm group is 2.\n"
     ]
    }
   ],
   "source": [
    "shot_number_l4a = hf_l4a['BEAM0110']['shot_number'][158560:158561][0]\n",
    "predict_stratum_l4a = hf_l4a['BEAM0110']['predict_stratum'][158560:158561][0]\n",
    "selected_algorithm_l4a = hf_l4a['BEAM0110']['selected_algorithm'][158560:158561][0]\n",
    "\n",
    "print_s = f\"\"\"For GEDI shot number {shot_number_l4a}, \\\n",
    "the predict stratum is {predict_stratum_l4a.decode('UTF-8')}, \\\n",
    "and the selected algorithm group is {selected_algorithm_l4a}.\"\"\"\n",
    "print(print_s)"
   ]
  },
  {
   "cell_type": "markdown",
   "id": "cb1b98d2",
   "metadata": {},
   "source": [
    "## L4A model parameters\n",
    "Let's print the model_data information for the `EBT_SAs` stratum."
   ]
  },
  {
   "cell_type": "code",
   "execution_count": 4,
   "id": "400169f6",
   "metadata": {},
   "outputs": [
    {
     "name": "stdout",
     "output_type": "stream",
     "text": [
      "predict_stratum  :  b'EBT_SAs'\n",
      "model_group  :  4\n",
      "model_name  :  b'EBT_coarse'\n",
      "model_id  :  1\n",
      "x_transform  :  b'sqrt'\n",
      "y_transform  :  b'sqrt'\n",
      "bias_correction_name  :  b'Snowdon'\n",
      "fit_stratum  :  b'EBT'\n",
      "rh_index  :  [50 98  0  0  0  0  0  0]\n",
      "predictor_id  :  [1 2 0 0 0 0 0 0]\n",
      "predictor_max_value  :  [12.66807  13.052969  0.        0.        0.        0.        0.\n",
      "  0.      ]\n",
      "vcov  :  [[ 1.6210171  -0.10003732 -0.047196    0.          0.        ]\n",
      " [-0.10003732  0.05625523 -0.04469026  0.          0.        ]\n",
      " [-0.047196   -0.04469026  0.04664591  0.          0.        ]\n",
      " [ 0.          0.          0.          0.          0.        ]\n",
      " [ 0.          0.          0.          0.          0.        ]]\n",
      "par  :  [-104.9654541     6.80217409    3.95531225    0.            0.        ]\n",
      "rse  :  3.9209127\n",
      "dof  :  4811\n",
      "response_max_value  :  1578.0\n",
      "bias_correction_value  :  1.1133657\n",
      "npar  :  3\n"
     ]
    }
   ],
   "source": [
    "model_data_l4a = hf_l4a['ANCILLARY']['model_data']\n",
    "model_stratum_l4a = model_data_l4a[12] # EBT_SAs\n",
    "for v in model_stratum_l4a.dtype.names:\n",
    "    print(v, \" : \", model_stratum_l4a[v])"
   ]
  },
  {
   "cell_type": "markdown",
   "id": "0288ab48",
   "metadata": {},
   "source": [
    "A square-root transformation is applied to both predictor and response variables as indicated by `x_transform` and `y_transform` above. Take a note of the `bias_correction_value` and `bias_correction_name` above. We will use the `bias_correction_value` later to back-transform AGBD values. Now, read all the model parameters and print the AGBD model."
   ]
  },
  {
   "cell_type": "code",
   "execution_count": 5,
   "id": "abf46825",
   "metadata": {},
   "outputs": [
    {
     "name": "stdout",
     "output_type": "stream",
     "text": [
      "The predict stratum EBT_SAs uses following model:\n",
      "AGBD = -104.9654541015625 + 6.802174091339111 x RH_50 + 3.9553122520446777 x  RH_98\n"
     ]
    }
   ],
   "source": [
    "intercept = model_stratum_l4a['par'][0] # intercept\n",
    "coeff_1 = model_stratum_l4a['par'][1] # first coeff\n",
    "coeff_2 = model_stratum_l4a['par'][2] # first coeff\n",
    "predict_1 = model_stratum_l4a['rh_index'][0] # predictor 1\n",
    "predict_2 = model_stratum_l4a['rh_index'][1] # predictor 1\n",
    "# print\n",
    "print_s = f\"\"\"The predict stratum {predict_stratum_l4a.decode('UTF-8')} uses following model:\n",
    "AGBD = {intercept} + {coeff_1} x RH_{predict_1} + {coeff_2} x  RH_{predict_2}\"\"\"\n",
    "print(print_s)"
   ]
  },
  {
   "cell_type": "markdown",
   "id": "a854e621",
   "metadata": {},
   "source": [
    "Also, read the predictor and response offsets from the L4A file."
   ]
  },
  {
   "cell_type": "code",
   "execution_count": 6,
   "id": "b6ef03d6",
   "metadata": {},
   "outputs": [
    {
     "name": "stdout",
     "output_type": "stream",
     "text": [
      "The predictor offset is 100, \n",
      "and the response offset is 0\n"
     ]
    }
   ],
   "source": [
    "predictor_offset = hf_l4a['BEAM0110']['agbd_prediction'].attrs['predictor_offset']\n",
    "response_offset = hf_l4a['BEAM0110']['agbd_prediction'].attrs['response_offset']\n",
    "# print\n",
    "print_s = f\"\"\"The predictor offset is {predictor_offset}, \n",
    "and the response offset is {response_offset}\"\"\"\n",
    "print(print_s)"
   ]
  },
  {
   "cell_type": "markdown",
   "id": "966398dd",
   "metadata": {},
   "source": [
    "We will use the predictor offset later when transforming the variables. \n",
    "\n",
    "## L2A file and RH metrics\n",
    "Now let's open the L2A file and read the RH metrics."
   ]
  },
  {
   "cell_type": "code",
   "execution_count": 7,
   "id": "d16a9ab1",
   "metadata": {},
   "outputs": [
    {
     "name": "stdout",
     "output_type": "stream",
     "text": [
      "For GEDI shot number 91680600300633870, \n",
      "L2A rh_50 is 19.149999618530273 m.\n",
      "L2A rh_98 is 37.150001525878906 m.\n",
      "Selected algorithm group is 2.\n"
     ]
    }
   ],
   "source": [
    "# GEDI L2a file\n",
    "l2a = 'GEDI02_A_2020207182449_O09168_03_T03028_02_003_01_V002.h5'\n",
    "l2af = path.join('full_orbits', l2a)\n",
    "hf_l2a = h5py.File(l2af, 'r')\n",
    "\n",
    "rh_50 = hf_l2a['BEAM0110']['rh'][158560:158561,50][0] # rh_50\n",
    "rh_98 = hf_l2a['BEAM0110']['rh'][158560:158561,98][0] # rh_98\n",
    "rh_units = hf_l2a['BEAM0110']['rh'].attrs['units']\n",
    "shot_number_l2a = hf_l2a['BEAM0110']['shot_number'][158560:158561][0]\n",
    "selected_algorithm_l2a = hf_l2a['BEAM0110']['selected_algorithm'][158560:158561][0]\n",
    "\n",
    "print_s = f\"\"\"For GEDI shot number {shot_number_l2a}, \n",
    "L2A rh_50 is {rh_50} {rh_units}.\n",
    "L2A rh_98 is {rh_98} {rh_units}.\n",
    "Selected algorithm group is {selected_algorithm_l2a}.\"\"\"\n",
    "print(print_s)"
   ]
  },
  {
   "cell_type": "markdown",
   "id": "ced783d3",
   "metadata": {},
   "source": [
    "## xvar\n",
    "We can now compute predictor variables `xvar` from the L2A RH metrics and compare with the L4A xvar values."
   ]
  },
  {
   "cell_type": "code",
   "execution_count": 8,
   "id": "07843108",
   "metadata": {},
   "outputs": [
    {
     "name": "stdout",
     "output_type": "stream",
     "text": [
      "For GEDI shot number 91680600300633870,\n",
      "L2A derived xvars: 10.91558517068738, 11.711105905331012.\n",
      "L4A xvars: 10.9155855178833, 11.711106300354004 \n"
     ]
    }
   ],
   "source": [
    "xvar_1_l2a = np.sqrt(rh_50 + predictor_offset) # sqrt x transformation\n",
    "xvar_2_l2a = np.sqrt(rh_98 + predictor_offset) # sqrt x transformation\n",
    "xvar_1 = hf_l4a['BEAM0110']['xvar'][158560:158561,0][0]\n",
    "xvar_2 = hf_l4a['BEAM0110']['xvar'][158560:158561,1][0]\n",
    "\n",
    "print_s = f\"\"\"For GEDI shot number {shot_number_l2a},\n",
    "L2A derived xvars: {xvar_1_l2a}, {xvar_2_l2a}.\n",
    "L4A xvars: {xvar_1}, {xvar_2} \"\"\"\n",
    "print(print_s)"
   ]
  },
  {
   "cell_type": "markdown",
   "id": "0d6c860c",
   "metadata": {},
   "source": [
    "## agbd_t\n",
    "Let's use the L2A derived xvars from above to compute AGBD in the transformed space and compare the transformed AGBD with that of L4A."
   ]
  },
  {
   "cell_type": "code",
   "execution_count": 9,
   "id": "776f391d",
   "metadata": {},
   "outputs": [
    {
     "name": "stdout",
     "output_type": "stream",
     "text": [
      "For GEDI shot number 91680600300633870,\n",
      "L2A derived agbd_t: 15.605337210641139.\n",
      "L4A agbd_t: 15.605335235595703 \n"
     ]
    }
   ],
   "source": [
    "agbd_t_l4a = hf_l4a['BEAM0110']['agbd_t'][158560:158561][0] # l4a agbd_t\n",
    "agbd_t_l2a = intercept + (coeff_1 * xvar_1_l2a) + (coeff_2 *  xvar_2_l2a) # l2a agbd_t\n",
    "\n",
    "print_s = f\"\"\"For GEDI shot number {shot_number_l2a},\n",
    "L2A derived agbd_t: {agbd_t_l2a}.\n",
    "L4A agbd_t: {agbd_t_l4a} \"\"\"\n",
    "print(print_s)"
   ]
  },
  {
   "cell_type": "markdown",
   "id": "ff129915",
   "metadata": {},
   "source": [
    "## agbd\n",
    "Now, let's back-transform L2A derived `agbd_t` and compare with the AGBD from L4A."
   ]
  },
  {
   "cell_type": "code",
   "execution_count": 10,
   "id": "32e264ee",
   "metadata": {
    "scrolled": true
   },
   "outputs": [
    {
     "name": "stdout",
     "output_type": "stream",
     "text": [
      "For GEDI shot number 91680600300633870,\n",
      "L2A derived estimated AGBD is 271.13409507246865 Mg / ha.\n",
      "L4A estimated AGBD 271.134033203125 Mg / ha.\n"
     ]
    }
   ],
   "source": [
    "agbd_l4a = hf_l4a['BEAM0110']['agbd'][158560:158561][0] # l4a agbd\n",
    "agbd_units = hf_l4a['BEAM0110']['agbd'].attrs['units'] \n",
    "bias_correction_value = model_stratum_l4a['bias_correction_value'] # bias_correction_value\n",
    "agbd_l2a = (agbd_t_l2a**2) * bias_correction_value # snowdon model with sqrt y transform\n",
    "\n",
    "print_s = f\"\"\"For GEDI shot number {shot_number_l2a},\n",
    "L2A derived estimated AGBD is {agbd_l2a} {agbd_units}.\n",
    "L4A estimated AGBD {agbd_l4a} {agbd_units}.\"\"\"\n",
    "print(print_s)"
   ]
  }
 ],
 "metadata": {
  "kernelspec": {
   "display_name": "Python 3 (ipykernel)",
   "language": "python",
   "name": "python3"
  },
  "language_info": {
   "codemirror_mode": {
    "name": "ipython",
    "version": 3
   },
   "file_extension": ".py",
   "mimetype": "text/x-python",
   "name": "python",
   "nbconvert_exporter": "python",
   "pygments_lexer": "ipython3",
   "version": "3.9.9"
  }
 },
 "nbformat": 4,
 "nbformat_minor": 5
}
