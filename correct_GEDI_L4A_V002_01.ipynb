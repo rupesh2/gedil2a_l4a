{
 "cells": [
  {
   "cell_type": "markdown",
   "id": "c2b570a5",
   "metadata": {},
   "source": [
    "# Apply correction to AGBD estimates for selected L4A shots\n",
    "\n",
    "GEDI L4A Version 2 (`V002`) files, with granule production version `01`, are affected by an issue that results in incorrect estimates of the aboveground biomass density (AGBD) for a subset of GEDI shots. The issue only affects the shots with selected algorithm setting group `10`. There was an error in some of the relative height (RH) metrics used as predictor variables in the AGBD models for these shots. AGBD estimates based on other algorithm setting groups are not affected. The Version 1 (`V001`) GEDI L4A files are also not affected by this issue. This issue is specific to GEDI L4A only and does not affect GEDI L2 products.\n",
    "\n",
    "The last two sections of the filenames indicate the granule production and version number of the file, e.g., the bold section of the GEDI04_A_2020207182449_O09168_03_T03028_02_002_<mark>**01_V002**</mark>.h5. The GEDI L4A includes estimates and parameters for seven algorithm setting groups; please refer to the [user guide](https://daac.ornl.gov/GEDI/guides/GEDI_L4A_AGB_Density_V2.html) and algorithm theoretical basis document ([ATBD](https://daac.ornl.gov/daacdata/gedi/GEDI_L4A_AGB_Density_V2/comp/GEDI_ATBD_L4A_v1.0.pdf)) for details. The selected algorithm setting group for each shot is provided the variable `selected_algorithm` within the root group. \n",
    "\n",
    "Within the root group `/BEAMXXXX/`, the following variables are affected for the shots with `selected_algorithm`=10: `agbd`,`agbd_pi_lower`,`agbd_pi_upper`, `agbd_se`, `agbd_t`, `agbd_t_se`, `xvar`.\n",
    "\n",
    "\n",
    "Within the `/BEAMXXXX/agbd_prediction/` subgroup, the following variables are affected for all shots: `agbd_a10`, `agbd_pi_lower_a10`, `agbd_pi_upper_a10`, `agbd_se_a10`, `agbd_t_a10`, `agbd_t_pi_lower_a10`, `agbd_t_pi_upper_a10`, `agbd_t_se_a10`, `xvar_a10`.\n",
    "\n",
    "Luckily, this issue only affects algorithm setting group `10` (`a10`), which is a special case because it uses the same settings as the algorithm setting `5` (`a05`) but uses a higher mode to calculate the RH metrics when the lowest detected mode is likely noise. This means we can use the `xvar` data provided for `a05`  to apply correction to the AGBD estimates for `a10`.\n",
    "\n",
    "While the above issue is being fixed with a new granule production version (`02_V002`), we can apply correction to affected files (version `01_V002`) to correct AGBD estimates. This tutorial shows how to apply such corrections to selected variables. "
   ]
  },
  {
   "cell_type": "code",
   "execution_count": 1,
   "id": "ff03069c",
   "metadata": {},
   "outputs": [
    {
     "ename": "TypeError",
     "evalue": "Indexing arrays must have integer dtypes",
     "output_type": "error",
     "traceback": [
      "\u001b[0;31m---------------------------------------------------------------------------\u001b[0m",
      "\u001b[0;31mTypeError\u001b[0m                                 Traceback (most recent call last)",
      "\u001b[0;32m/var/folders/_2/bx8gq_2n4pl43ps8xhhr9k1j89gn1y/T/ipykernel_16731/1704177902.py\u001b[0m in \u001b[0;36m<module>\u001b[0;34m\u001b[0m\n\u001b[1;32m     85\u001b[0m \u001b[0;34m\u001b[0m\u001b[0m\n\u001b[1;32m     86\u001b[0m             \u001b[0;31m# apply correction to root variables where selected_algorithm is10\u001b[0m\u001b[0;34m\u001b[0m\u001b[0;34m\u001b[0m\u001b[0m\n\u001b[0;32m---> 87\u001b[0;31m             \u001b[0mxvar\u001b[0m\u001b[0;34m[\u001b[0m\u001b[0mselected_algorithm\u001b[0m\u001b[0;34m==\u001b[0m\u001b[0;36m10\u001b[0m\u001b[0;34m,\u001b[0m\u001b[0;34m:\u001b[0m\u001b[0;34m]\u001b[0m \u001b[0;34m=\u001b[0m \u001b[0mxvar_a10\u001b[0m\u001b[0;34m[\u001b[0m\u001b[0mselected_algorithm\u001b[0m\u001b[0;34m==\u001b[0m\u001b[0;36m10\u001b[0m\u001b[0;34m,\u001b[0m\u001b[0;34m:\u001b[0m\u001b[0;34m]\u001b[0m\u001b[0;34m\u001b[0m\u001b[0;34m\u001b[0m\u001b[0m\n\u001b[0m\u001b[1;32m     88\u001b[0m             \u001b[0magbd_t\u001b[0m\u001b[0;34m[\u001b[0m\u001b[0mselected_algorithm\u001b[0m\u001b[0;34m==\u001b[0m\u001b[0;36m10\u001b[0m\u001b[0;34m]\u001b[0m \u001b[0;34m=\u001b[0m \u001b[0magbd_t_a10\u001b[0m\u001b[0;34m[\u001b[0m\u001b[0mselected_algorithm\u001b[0m\u001b[0;34m==\u001b[0m\u001b[0;36m10\u001b[0m\u001b[0;34m]\u001b[0m\u001b[0;34m\u001b[0m\u001b[0;34m\u001b[0m\u001b[0m\n\u001b[1;32m     89\u001b[0m             \u001b[0magbd\u001b[0m\u001b[0;34m[\u001b[0m\u001b[0mselected_algorithm\u001b[0m\u001b[0;34m==\u001b[0m\u001b[0;36m10\u001b[0m\u001b[0;34m]\u001b[0m \u001b[0;34m=\u001b[0m \u001b[0magbd_a10\u001b[0m\u001b[0;34m[\u001b[0m\u001b[0mselected_algorithm\u001b[0m\u001b[0;34m==\u001b[0m\u001b[0;36m10\u001b[0m\u001b[0;34m]\u001b[0m\u001b[0;34m\u001b[0m\u001b[0;34m\u001b[0m\u001b[0m\n",
      "\u001b[0;32mh5py/_objects.pyx\u001b[0m in \u001b[0;36mh5py._objects.with_phil.wrapper\u001b[0;34m()\u001b[0m\n",
      "\u001b[0;32mh5py/_objects.pyx\u001b[0m in \u001b[0;36mh5py._objects.with_phil.wrapper\u001b[0;34m()\u001b[0m\n",
      "\u001b[0;32m/usr/local/lib/python3.9/site-packages/h5py/_hl/dataset.py\u001b[0m in \u001b[0;36m__getitem__\u001b[0;34m(self, args, new_dtype)\u001b[0m\n\u001b[1;32m    750\u001b[0m \u001b[0;34m\u001b[0m\u001b[0m\n\u001b[1;32m    751\u001b[0m         \u001b[0;31m# Perform the dataspace selection.\u001b[0m\u001b[0;34m\u001b[0m\u001b[0;34m\u001b[0m\u001b[0m\n\u001b[0;32m--> 752\u001b[0;31m         \u001b[0mselection\u001b[0m \u001b[0;34m=\u001b[0m \u001b[0msel\u001b[0m\u001b[0;34m.\u001b[0m\u001b[0mselect\u001b[0m\u001b[0;34m(\u001b[0m\u001b[0mself\u001b[0m\u001b[0;34m.\u001b[0m\u001b[0mshape\u001b[0m\u001b[0;34m,\u001b[0m \u001b[0margs\u001b[0m\u001b[0;34m,\u001b[0m \u001b[0mdataset\u001b[0m\u001b[0;34m=\u001b[0m\u001b[0mself\u001b[0m\u001b[0;34m)\u001b[0m\u001b[0;34m\u001b[0m\u001b[0;34m\u001b[0m\u001b[0m\n\u001b[0m\u001b[1;32m    753\u001b[0m \u001b[0;34m\u001b[0m\u001b[0m\n\u001b[1;32m    754\u001b[0m         \u001b[0;32mif\u001b[0m \u001b[0mselection\u001b[0m\u001b[0;34m.\u001b[0m\u001b[0mnselect\u001b[0m \u001b[0;34m==\u001b[0m \u001b[0;36m0\u001b[0m\u001b[0;34m:\u001b[0m\u001b[0;34m\u001b[0m\u001b[0;34m\u001b[0m\u001b[0m\n",
      "\u001b[0;32m/usr/local/lib/python3.9/site-packages/h5py/_hl/selections.py\u001b[0m in \u001b[0;36mselect\u001b[0;34m(shape, args, dataset)\u001b[0m\n\u001b[1;32m     80\u001b[0m         \u001b[0mselector\u001b[0m \u001b[0;34m=\u001b[0m \u001b[0m_selector\u001b[0m\u001b[0;34m.\u001b[0m\u001b[0mSelector\u001b[0m\u001b[0;34m(\u001b[0m\u001b[0mspace\u001b[0m\u001b[0;34m)\u001b[0m\u001b[0;34m\u001b[0m\u001b[0;34m\u001b[0m\u001b[0m\n\u001b[1;32m     81\u001b[0m \u001b[0;34m\u001b[0m\u001b[0m\n\u001b[0;32m---> 82\u001b[0;31m     \u001b[0;32mreturn\u001b[0m \u001b[0mselector\u001b[0m\u001b[0;34m.\u001b[0m\u001b[0mmake_selection\u001b[0m\u001b[0;34m(\u001b[0m\u001b[0margs\u001b[0m\u001b[0;34m)\u001b[0m\u001b[0;34m\u001b[0m\u001b[0;34m\u001b[0m\u001b[0m\n\u001b[0m\u001b[1;32m     83\u001b[0m \u001b[0;34m\u001b[0m\u001b[0m\n\u001b[1;32m     84\u001b[0m \u001b[0;34m\u001b[0m\u001b[0m\n",
      "\u001b[0;32mh5py/_selector.pyx\u001b[0m in \u001b[0;36mh5py._selector.Selector.make_selection\u001b[0;34m()\u001b[0m\n",
      "\u001b[0;32mh5py/_selector.pyx\u001b[0m in \u001b[0;36mh5py._selector.Selector.apply_args\u001b[0;34m()\u001b[0m\n",
      "\u001b[0;31mTypeError\u001b[0m: Indexing arrays must have integer dtypes"
     ]
    }
   ],
   "source": [
    "import shutil\n",
    "from os import path\n",
    "import h5py\n",
    "import pandas as pd\n",
    "import numpy as np\n",
    "from glob import glob\n",
    "import warnings\n",
    "warnings.filterwarnings('ignore')\n",
    "\n",
    "# input directory containing GEDI L4A *01_V002.h5 files\n",
    "indir = 'full_orbits'\n",
    "\n",
    "# output directory to save the corrected GEDI L4A files\n",
    "outdir = 'corrected'\n",
    "\n",
    "# loop over all h5 files at the input directory\n",
    "for infile in glob(path.join(indir, '*01_V002.h5')):\n",
    "    outfile = path.join(outdir, path.basename(infile))\n",
    "    \n",
    "    # copy the input file to output location\n",
    "    shutil.copy(infile, outfile)\n",
    "    \n",
    "    # read the L4A file at output location\n",
    "    hf_l4a = h5py.File(outfile, 'r+')\n",
    "\n",
    "    # model_parameters\n",
    "    model_data=hf_l4a['ANCILLARY']['model_data']\n",
    "    predict_stratum = model_data['predict_stratum'].astype('U13')\n",
    "    bias_correction_name = model_data['bias_correction_name'].astype('U13')\n",
    "    bias_correction_value = model_data['bias_correction_value']\n",
    "    x_transform = model_data['x_transform'].astype('U13')\n",
    "    y_transform = model_data['y_transform'].astype('U13')\n",
    "    npar = model_data['npar']\n",
    "    par = model_data['par']\n",
    "    rh_index = model_data['rh_index']\n",
    "\n",
    "    # pandas dataframe\n",
    "    df_l4a_model = pd.DataFrame(list(zip(predict_stratum, bias_correction_name, bias_correction_value,\n",
    "                                        x_transform,y_transform, npar, par, rh_index)), \n",
    "                         columns=['predict_stratum', 'bias_correction_name', 'bias_correction_value',\n",
    "                                        'x_transform', 'y_transform', 'npar', 'par', 'rh_index'])\n",
    "    df_l4a_model.set_index('predict_stratum', inplace=True)\n",
    "    \n",
    "    for beams in list(hf_l4a.keys()):\n",
    "        if beams.startswith('BEAM'):\n",
    "            beam = hf_l4a.get(beams)\n",
    "\n",
    "            # get root-level variables\n",
    "            agbd = beam['agbd'] \n",
    "            agbd_t = beam['agbd_t'] \n",
    "            xvar = beam['xvar'] \n",
    "            selected_algorithm = beam['selected_algorithm'][:]\n",
    "            predict_stratum = beam['predict_stratum'][:].astype('U13') \n",
    "\n",
    "            # get variables within agbd_prediction group\n",
    "            predictor_offset = beam['agbd_prediction'].attrs['predictor_offset'] \n",
    "            xvar_a5 = beam['agbd_prediction']['xvar_a5'][:]\n",
    "            xvar_a10 = beam['agbd_prediction']['xvar_a10'] \n",
    "            agbd_a10 = beam['agbd_prediction']['agbd_a10']\n",
    "            agbd_t_a10 = beam['agbd_prediction']['agbd_t_a10'] \n",
    "\n",
    "            # get variables within geolocation group\n",
    "            elev_lowestmode_a10 = beam['geolocation']['elev_lowestmode_a10'][:] \n",
    "            elev_lowestmode_a5 = beam['geolocation']['elev_lowestmode_a5'][:] \n",
    "            \n",
    "            # backtransform xvar_a10 from xvar_a5\n",
    "            xvar_a10_0 = np.square(xvar_a5) - predictor_offset\n",
    "            xvar_a10_1 = xvar_a10_0 - (elev_lowestmode_a10[:, None] - elev_lowestmode_a5[:, None])\n",
    "            xvar_a10[:] =  np.sqrt(xvar_a10_1 + predictor_offset) # sqrt x transformation\n",
    "            \n",
    "            # compute agbd for a10\n",
    "            for j, ps in enumerate(predict_stratum):\n",
    "                if ps in df_l4a_model.index:\n",
    "                    # get model for the predict stratum ps\n",
    "                    shot_model = df_l4a_model.loc[ps]\n",
    "                    # model intercept\n",
    "                    a_t = shot_model['par'][0] \n",
    "                    # apply model coefficients to xvars\n",
    "                    for i in range(shot_model['npar']-1):\n",
    "                        a_t += shot_model['par'][i+1] * xvar_a10[j,i]\n",
    "                    \n",
    "                    # apply correction to agbd_t_a10\n",
    "                    agbd_t_a10[j] = a_t\n",
    "                    # apply correction to agbd_t\n",
    "                    agbd_a10[j] = np.square(a_t) * shot_model['bias_correction_value']\n",
    "            \n",
    "            # apply correction to root variables where selected_algorithm is10\n",
    "            xvar[selected_algorithm==10] = xvar_a10[selected_algorithm==10, ]\n",
    "            agbd_t[selected_algorithm==10] = agbd_t_a10[selected_algorithm==10]\n",
    "            agbd[selected_algorithm==10] = agbd_a10[selected_algorithm==10]\n",
    "            \n",
    "#     close hdf file\n",
    "    hf_l4a.close()"
   ]
  },
  {
   "cell_type": "code",
   "execution_count": 22,
   "id": "683e8653",
   "metadata": {},
   "outputs": [
    {
     "ename": "TypeError",
     "evalue": "Indexing arrays must have integer dtypes",
     "output_type": "error",
     "traceback": [
      "\u001b[0;31m---------------------------------------------------------------------------\u001b[0m",
      "\u001b[0;31mTypeError\u001b[0m                                 Traceback (most recent call last)",
      "\u001b[0;32m/var/folders/_2/bx8gq_2n4pl43ps8xhhr9k1j89gn1y/T/ipykernel_16731/198403112.py\u001b[0m in \u001b[0;36m<module>\u001b[0;34m\u001b[0m\n\u001b[0;32m----> 1\u001b[0;31m \u001b[0mxvar\u001b[0m\u001b[0;34m[\u001b[0m\u001b[0mselected_algorithm\u001b[0m\u001b[0;34m==\u001b[0m\u001b[0;36m10\u001b[0m\u001b[0;34m,\u001b[0m\u001b[0;34m:\u001b[0m\u001b[0;34m]\u001b[0m \u001b[0;34m=\u001b[0m \u001b[0;36m1\u001b[0m\u001b[0;34m\u001b[0m\u001b[0;34m\u001b[0m\u001b[0m\n\u001b[0m",
      "\u001b[0;32mh5py/_objects.pyx\u001b[0m in \u001b[0;36mh5py._objects.with_phil.wrapper\u001b[0;34m()\u001b[0m\n",
      "\u001b[0;32mh5py/_objects.pyx\u001b[0m in \u001b[0;36mh5py._objects.with_phil.wrapper\u001b[0;34m()\u001b[0m\n",
      "\u001b[0;32m/usr/local/lib/python3.9/site-packages/h5py/_hl/dataset.py\u001b[0m in \u001b[0;36m__setitem__\u001b[0;34m(self, args, val)\u001b[0m\n\u001b[1;32m    883\u001b[0m \u001b[0;34m\u001b[0m\u001b[0m\n\u001b[1;32m    884\u001b[0m         \u001b[0;31m# Perform the dataspace selection\u001b[0m\u001b[0;34m\u001b[0m\u001b[0;34m\u001b[0m\u001b[0m\n\u001b[0;32m--> 885\u001b[0;31m         \u001b[0mselection\u001b[0m \u001b[0;34m=\u001b[0m \u001b[0msel\u001b[0m\u001b[0;34m.\u001b[0m\u001b[0mselect\u001b[0m\u001b[0;34m(\u001b[0m\u001b[0mself\u001b[0m\u001b[0;34m.\u001b[0m\u001b[0mshape\u001b[0m\u001b[0;34m,\u001b[0m \u001b[0margs\u001b[0m\u001b[0;34m,\u001b[0m \u001b[0mdataset\u001b[0m\u001b[0;34m=\u001b[0m\u001b[0mself\u001b[0m\u001b[0;34m)\u001b[0m\u001b[0;34m\u001b[0m\u001b[0;34m\u001b[0m\u001b[0m\n\u001b[0m\u001b[1;32m    886\u001b[0m \u001b[0;34m\u001b[0m\u001b[0m\n\u001b[1;32m    887\u001b[0m         \u001b[0;32mif\u001b[0m \u001b[0mselection\u001b[0m\u001b[0;34m.\u001b[0m\u001b[0mnselect\u001b[0m \u001b[0;34m==\u001b[0m \u001b[0;36m0\u001b[0m\u001b[0;34m:\u001b[0m\u001b[0;34m\u001b[0m\u001b[0;34m\u001b[0m\u001b[0m\n",
      "\u001b[0;32m/usr/local/lib/python3.9/site-packages/h5py/_hl/selections.py\u001b[0m in \u001b[0;36mselect\u001b[0;34m(shape, args, dataset)\u001b[0m\n\u001b[1;32m     80\u001b[0m         \u001b[0mselector\u001b[0m \u001b[0;34m=\u001b[0m \u001b[0m_selector\u001b[0m\u001b[0;34m.\u001b[0m\u001b[0mSelector\u001b[0m\u001b[0;34m(\u001b[0m\u001b[0mspace\u001b[0m\u001b[0;34m)\u001b[0m\u001b[0;34m\u001b[0m\u001b[0;34m\u001b[0m\u001b[0m\n\u001b[1;32m     81\u001b[0m \u001b[0;34m\u001b[0m\u001b[0m\n\u001b[0;32m---> 82\u001b[0;31m     \u001b[0;32mreturn\u001b[0m \u001b[0mselector\u001b[0m\u001b[0;34m.\u001b[0m\u001b[0mmake_selection\u001b[0m\u001b[0;34m(\u001b[0m\u001b[0margs\u001b[0m\u001b[0;34m)\u001b[0m\u001b[0;34m\u001b[0m\u001b[0;34m\u001b[0m\u001b[0m\n\u001b[0m\u001b[1;32m     83\u001b[0m \u001b[0;34m\u001b[0m\u001b[0m\n\u001b[1;32m     84\u001b[0m \u001b[0;34m\u001b[0m\u001b[0m\n",
      "\u001b[0;32mh5py/_selector.pyx\u001b[0m in \u001b[0;36mh5py._selector.Selector.make_selection\u001b[0;34m()\u001b[0m\n",
      "\u001b[0;32mh5py/_selector.pyx\u001b[0m in \u001b[0;36mh5py._selector.Selector.apply_args\u001b[0;34m()\u001b[0m\n",
      "\u001b[0;31mTypeError\u001b[0m: Indexing arrays must have integer dtypes"
     ]
    }
   ],
   "source": [
    "xvar[selected_algorithm==10,:] = 1"
   ]
  },
  {
   "cell_type": "code",
   "execution_count": 21,
   "id": "a7e08bb4",
   "metadata": {},
   "outputs": [
    {
     "data": {
      "text/plain": [
       "array([[   11.055485,    11.547889,     0.      ,     0.      ],\n",
       "       [   11.127735,    11.615787,     0.      ,     0.      ],\n",
       "       [   10.977461,    11.41642 ,     0.      ,     0.      ],\n",
       "       ...,\n",
       "       [-9999.      , -9999.      , -9999.      , -9999.      ],\n",
       "       [   10.186756,    10.458012,     0.      ,     0.      ],\n",
       "       [   10.840494,    11.047005,     0.      ,     0.      ]],\n",
       "      dtype=float32)"
      ]
     },
     "execution_count": 21,
     "metadata": {},
     "output_type": "execute_result"
    }
   ],
   "source": [
    "xvar[:][selected_algorithm==10]"
   ]
  },
  {
   "cell_type": "code",
   "execution_count": 7,
   "id": "d75972bf",
   "metadata": {},
   "outputs": [
    {
     "data": {
      "text/plain": [
       "(166957,)"
      ]
     },
     "execution_count": 7,
     "metadata": {},
     "output_type": "execute_result"
    }
   ],
   "source": [
    "selected_algorithm.shape"
   ]
  },
  {
   "cell_type": "code",
   "execution_count": null,
   "id": "635b4881",
   "metadata": {},
   "outputs": [],
   "source": []
  }
 ],
 "metadata": {
  "kernelspec": {
   "display_name": "Python 3 (ipykernel)",
   "language": "python",
   "name": "python3"
  },
  "language_info": {
   "codemirror_mode": {
    "name": "ipython",
    "version": 3
   },
   "file_extension": ".py",
   "mimetype": "text/x-python",
   "name": "python",
   "nbconvert_exporter": "python",
   "pygments_lexer": "ipython3",
   "version": "3.9.9"
  }
 },
 "nbformat": 4,
 "nbformat_minor": 5
}
