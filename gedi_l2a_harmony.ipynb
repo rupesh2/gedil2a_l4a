{
 "cells": [
  {
   "cell_type": "markdown",
   "id": "63e5b80b-64fb-47b5-85e6-999722280216",
   "metadata": {},
   "source": [
    "# Access GEDI L2A with Harmony API\n",
    "\n",
    "## Overview\n",
    "This tutorial will demonstrate how to directly access and subset the GEDI L2A canopy height metrics dataset using [NASA’s Harmony Services](https://harmony.earthdata.nasa.gov/). The Harmony API allows seamless access and production of analysis-ready Earth observation data across different DAACs by enabling cloud-based spatial, temporal, and variable subsetting and data conversions. The GEDI datasets are available from the Harmony API.\n",
    "\n",
    "## Learning Objectives\n",
    "- Use [NASA’s Harmony Services](https://harmony.earthdata.nasa.gov/) to retrieve the GEDI L2A datasets. The Harmony API allows access to selected variables for the dataset within the spatial-temporal bounds without having to download the whole data file.\n",
    "\n",
    "## Dataset\n",
    "The GEDI Level 2A Geolocated Elevation and Height Metrics product (GEDI02_A) provides waveform interpretation and extracted products from eachreceived waveform, including ground elevation, canopy top height, and relative height (RH) metrics. GEDI datasets are available for the period starting 2019-04-17 and covers 52 N to 52 S latitudes. GEDI L2A data files are natively in HDF5 format. "
   ]
  },
  {
   "cell_type": "code",
   "execution_count": 1,
   "id": "f9a3df98-b4d0-463a-ba20-12116c9c75b6",
   "metadata": {},
   "outputs": [],
   "source": [
    "import h5py\n",
    "import requests as re\n",
    "import pandas as pd\n",
    "from datetime import datetime\n",
    "from glob import glob\n",
    "from harmony import Client, Collection, Request, BBox"
   ]
  },
  {
   "cell_type": "markdown",
   "id": "f2ddc5c2-d9be-4394-9bb1-3da5f124c520",
   "metadata": {},
   "source": [
    "## Authentication\n",
    "NASA Harmony API requires [NASA Earthdata Login (EDL)](https://urs.earthdata.nasa.gov/). You can login to harmony_client directly by passing EDL authentication as the following in the Jupyter Notebook itself:\n",
    "```bash\n",
    "harmony_client = Client(auth=(\"your EDL username\", \"your EDL password\"))\n",
    "```\n",
    "\n",
    "## Create Harmony Client Object\n",
    "First, we create a Harmony Client object. If you are passing the EDL authentication, please do as shown above with the `auth` parameter."
   ]
  },
  {
   "cell_type": "code",
   "execution_count": 2,
   "id": "35b135d7-59ad-42b3-9e4d-e99e1873dab3",
   "metadata": {},
   "outputs": [],
   "source": [
    "harmony_client = Client()"
   ]
  },
  {
   "cell_type": "markdown",
   "id": "ab208499-5130-48da-b160-ef8e21a1766b",
   "metadata": {},
   "source": [
    "## Retrieve Concept ID\n",
    "Now, let’s retrieve the `Concept ID` of the GEDI L4A dataset. The `Concept ID` is NASA Earthdata’s unique ID for its dataset."
   ]
  },
  {
   "cell_type": "code",
   "execution_count": 3,
   "id": "70e2231b-3954-4ace-b1e9-187cc9f8709a",
   "metadata": {},
   "outputs": [
    {
     "name": "stdout",
     "output_type": "stream",
     "text": [
      "C2142771958-LPCLOUD \n"
     ]
    }
   ],
   "source": [
    "def get_concept_id(doi):\n",
    "    \"\"\"get concept id from DOI using CMR API\"\"\"\n",
    "    doisearch = f'https://cmr.earthdata.nasa.gov/search/collections.json?doi={doi}' \n",
    "    return re.get(doisearch).json()['feed']['entry'][0]['id']\n",
    "\n",
    "concept = get_concept_id('10.5067/GEDI/GEDI02_A.002') # GEDI L2A DOI\n",
    "# printing concept_id\n",
    "print(f\"{concept} \")"
   ]
  },
  {
   "cell_type": "markdown",
   "id": "42bfb92b-5a0e-4fe1-8ff4-342118946a34",
   "metadata": {},
   "source": [
    "## Define Request Parameters\n",
    "\n",
    "Let’s create a Harmony Collection object with the concept_id retrieved above. We will also define the GEDI L4A variables of interest and temporal range."
   ]
  },
  {
   "cell_type": "code",
   "execution_count": 4,
   "id": "ff932774-9cca-45fb-947f-a9726209544a",
   "metadata": {},
   "outputs": [],
   "source": [
    "# harmony collection\n",
    "collection = Collection(id=concept)\n",
    "\n",
    "def create_var_names(variables):\n",
    "    # gedi beams\n",
    "    beams = ['BEAM0000', 'BEAM0001', 'BEAM0010', \n",
    "             'BEAM0011', 'BEAM0101', 'BEAM0110', \n",
    "             'BEAM1000', 'BEAM1011']\n",
    "    # combine variables and beam names\n",
    "    return [f'/{b}/{v}' for b in beams for v in variables]\n",
    "\n",
    "# gedi variables\n",
    "variables = create_var_names(['rh', 'shot_number'])\n",
    "\n",
    "# bbox\n",
    "bounding_box = BBox(w=-44.0654, s=-13.76913, \n",
    "                    e=-44.17246, n=-13.67646)\n",
    "\n",
    "# time range\n",
    "temporal_range = {'start': datetime(2019, 4, 17), \n",
    "                  'stop': datetime(2023, 3, 31)}"
   ]
  },
  {
   "cell_type": "markdown",
   "id": "9c87f1a5-eac5-45d8-8aed-ebbd169b4f28",
   "metadata": {},
   "source": [
    "## Create and Submit Harmony Request\n",
    "Now, we can create a Harmony request with variables, temporal range, and bounding box and submit the request using the Harmony client object. We will use the `download_all` method, which uses a multithreaded downloader and returns a [concurrent future](https://docs.python.org/3/library/concurrent.futures.html). Futures are asynchronous and let us use the downloaded file as soon as the download is complete while other files are still being downloaded."
   ]
  },
  {
   "cell_type": "code",
   "execution_count": 5,
   "id": "f9c88daf-c71e-4a67-8421-783a9d0a3347",
   "metadata": {},
   "outputs": [
    {
     "name": "stdout",
     "output_type": "stream",
     "text": [
      "Processing job: bf0998a8-cec8-4a1e-8519-f15027d47411\n",
      "Waiting for the job to finish\n"
     ]
    },
    {
     "name": "stderr",
     "output_type": "stream",
     "text": [
      " [ Processing:   1% ] |                                                   | [\\]\n",
      "Job has been paused. Call `resume()` to resume.\n",
      " [ Processing: 100% ] |###################################################| [|]\n"
     ]
    },
    {
     "name": "stdout",
     "output_type": "stream",
     "text": [
      "Downloading subset files...\n"
     ]
    },
    {
     "name": "stderr",
     "output_type": "stream",
     "text": [
      "Job has been paused. Call `resume()` to resume.\n"
     ]
    },
    {
     "name": "stdout",
     "output_type": "stream",
     "text": [
      "77422564_GEDI02_A_2019108063057_O01963_04_T01067_02_003_01_V002_subsetted.h5\n",
      "Downloaded: 77422564_GEDI02_A_2019108063057_O01963_04_T01067_02_003_01_V002_subsetted.h5\n",
      "Done downloading files.\n"
     ]
    }
   ],
   "source": [
    "request = Request(collection=collection, \n",
    "              variables=variables, \n",
    "              temporal=temporal_range,\n",
    "              spatial=bounding_box,\n",
    "              ignore_errors=True)\n",
    "\n",
    "# submit harmony request, will return job id\n",
    "subset_job_id = harmony_client.submit(request)\n",
    "print(f'Processing job: {subset_job_id}')\n",
    "print(f'Waiting for the job to finish')\n",
    "results = harmony_client.result_json(subset_job_id, show_progress=True)\n",
    "print(f'Downloading subset files...')\n",
    "futures = harmony_client.download_all(subset_job_id, overwrite=True)\n",
    "for f in futures:\n",
    "    # all subsetted files have this suffix\n",
    "    if f.result().endswith('subsetted.h5'):\n",
    "        print(f'Downloaded: {f.result()}')\n",
    "print(f'Done downloading files.')"
   ]
  },
  {
   "cell_type": "markdown",
   "id": "fd7ac186-6938-4584-9adc-bb4a7dbecd5c",
   "metadata": {},
   "source": [
    "## Read Subset files\n",
    "All the subsetted files are saved as `_subsetted.h5`. Let’s read these `h5` files into the pandas dataframe.\n"
   ]
  },
  {
   "cell_type": "code",
   "execution_count": 6,
   "id": "3fe95417-2492-4ec4-8983-0f2234497d58",
   "metadata": {},
   "outputs": [
    {
     "data": {
      "text/html": [
       "<div>\n",
       "<style scoped>\n",
       "    .dataframe tbody tr th:only-of-type {\n",
       "        vertical-align: middle;\n",
       "    }\n",
       "\n",
       "    .dataframe tbody tr th {\n",
       "        vertical-align: top;\n",
       "    }\n",
       "\n",
       "    .dataframe thead th {\n",
       "        text-align: right;\n",
       "    }\n",
       "</style>\n",
       "<table border=\"1\" class=\"dataframe\">\n",
       "  <thead>\n",
       "    <tr style=\"text-align: right;\">\n",
       "      <th></th>\n",
       "      <th>delta_time</th>\n",
       "      <th>lat_lowestmode</th>\n",
       "      <th>lon_lowestmode</th>\n",
       "      <th>rh</th>\n",
       "      <th>shot_number</th>\n",
       "    </tr>\n",
       "  </thead>\n",
       "  <tbody>\n",
       "    <tr>\n",
       "      <th>0</th>\n",
       "      <td>4.080868e+07</td>\n",
       "      <td>-13.676622</td>\n",
       "      <td>167.594001</td>\n",
       "      <td>[0.0, 0.0, 0.0, 0.0, 0.0, 0.0, 0.0, 0.0, 0.0, ...</td>\n",
       "      <td>19630000400366077</td>\n",
       "    </tr>\n",
       "    <tr>\n",
       "      <th>1</th>\n",
       "      <td>4.080868e+07</td>\n",
       "      <td>-13.677037</td>\n",
       "      <td>167.594318</td>\n",
       "      <td>[0.0, 0.0, 0.0, 0.0, 0.0, 0.0, 0.0, 0.0, 0.0, ...</td>\n",
       "      <td>19630000400366078</td>\n",
       "    </tr>\n",
       "    <tr>\n",
       "      <th>2</th>\n",
       "      <td>4.080868e+07</td>\n",
       "      <td>-13.677452</td>\n",
       "      <td>167.594635</td>\n",
       "      <td>[0.0, 0.0, 0.0, 0.0, 0.0, 0.0, 0.0, 0.0, 0.0, ...</td>\n",
       "      <td>19630000400366079</td>\n",
       "    </tr>\n",
       "    <tr>\n",
       "      <th>3</th>\n",
       "      <td>4.080868e+07</td>\n",
       "      <td>-13.677866</td>\n",
       "      <td>167.594952</td>\n",
       "      <td>[0.0, 0.0, 0.0, 0.0, 0.0, 0.0, 0.0, 0.0, 0.0, ...</td>\n",
       "      <td>19630000400366080</td>\n",
       "    </tr>\n",
       "    <tr>\n",
       "      <th>4</th>\n",
       "      <td>4.080868e+07</td>\n",
       "      <td>-13.678281</td>\n",
       "      <td>167.595269</td>\n",
       "      <td>[0.0, 0.0, 0.0, 0.0, 0.0, 0.0, 0.0, 0.0, 0.0, ...</td>\n",
       "      <td>19630000400366081</td>\n",
       "    </tr>\n",
       "  </tbody>\n",
       "</table>\n",
       "</div>"
      ],
      "text/plain": [
       "     delta_time  lat_lowestmode  lon_lowestmode  \\\n",
       "0  4.080868e+07      -13.676622      167.594001   \n",
       "1  4.080868e+07      -13.677037      167.594318   \n",
       "2  4.080868e+07      -13.677452      167.594635   \n",
       "3  4.080868e+07      -13.677866      167.594952   \n",
       "4  4.080868e+07      -13.678281      167.595269   \n",
       "\n",
       "                                                  rh        shot_number  \n",
       "0  [0.0, 0.0, 0.0, 0.0, 0.0, 0.0, 0.0, 0.0, 0.0, ...  19630000400366077  \n",
       "1  [0.0, 0.0, 0.0, 0.0, 0.0, 0.0, 0.0, 0.0, 0.0, ...  19630000400366078  \n",
       "2  [0.0, 0.0, 0.0, 0.0, 0.0, 0.0, 0.0, 0.0, 0.0, ...  19630000400366079  \n",
       "3  [0.0, 0.0, 0.0, 0.0, 0.0, 0.0, 0.0, 0.0, 0.0, ...  19630000400366080  \n",
       "4  [0.0, 0.0, 0.0, 0.0, 0.0, 0.0, 0.0, 0.0, 0.0, ...  19630000400366081  "
      ]
     },
     "execution_count": 6,
     "metadata": {},
     "output_type": "execute_result"
    }
   ],
   "source": [
    "subset_df = pd.DataFrame()\n",
    "for subfile in glob('*GEDI02_A_*_subsetted.h5'):\n",
    "    with h5py.File(subfile, 'r') as hf_in:\n",
    "        for v in list(hf_in.keys()):\n",
    "            if v.startswith('BEAM'):\n",
    "                beam = hf_in[v]\n",
    "                col_names = []\n",
    "                col_val = []\n",
    "                # read all variables\n",
    "                for key, value in beam.items():\n",
    "                    col_names.append(key)\n",
    "                    col_val.append(value[:].tolist())\n",
    "            \n",
    "                # Appending to the subset_df dataframe\n",
    "                beam_df = pd.DataFrame(map(list, zip(*col_val)), columns=col_names)\n",
    "                subset_df = pd.concat([subset_df, beam_df])\n",
    "        \n",
    "# print head of dataframe\n",
    "subset_df.head()"
   ]
  }
 ],
 "metadata": {
  "kernelspec": {
   "display_name": "Python 3 (ipykernel)",
   "language": "python",
   "name": "python3"
  },
  "language_info": {
   "codemirror_mode": {
    "name": "ipython",
    "version": 3
   },
   "file_extension": ".py",
   "mimetype": "text/x-python",
   "name": "python",
   "nbconvert_exporter": "python",
   "pygments_lexer": "ipython3",
   "version": "3.10.13"
  }
 },
 "nbformat": 4,
 "nbformat_minor": 5
}
