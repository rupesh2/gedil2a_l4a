{
 "cells": [
  {
   "cell_type": "markdown",
   "id": "dfbc77bc",
   "metadata": {},
   "source": [
    "# Direct S3 Access GEDI L4A from the NASA Earthdata Cloud in R\n",
    "\n",
    "GEDI L4A Datasets are available through NASA's Earthdata Cloud. NASA Earthdata on Cloud is always free and accessible via HTTPS or direct [S3](https://aws.amazon.com/s3/) bucket access. With direct S3 access, you can bring your \"code to the data\", making your processing faster and more scalable. Direct S3 access to NASA Earthdata on Cloud is only available if your Amazon Web Services ([AWS](https://aws.amazon.com/)) instance is set up in the `us-west-2` region. If you are new to the Earthdata Cloud, these NASA Earthdata [primers](https://www.earthdata.nasa.gov/learn/webinars-and-tutorials/cloud-primer-amazon-web-services) and [tutorials](https://www.earthdata.nasa.gov/learn/webinars-and-tutorials/how-cloud-earth-scientists) are good resources to get you started. \n",
    "\n",
    "To run R on a Jupyter Notebook:\n",
    "1. Install `IRKernel` packages by running the following in your R console:: `install.packages(\"IRkernel\")`\n",
    "3. Install kernel spec in your R by running `IRkernel::installspec()`.\n",
    "4. Now, the R kernel will be available along with the Python Kernel in the top-right corner of the Jupyter Notebook.\n",
    "\n",
    "To access a Juypter Notebook on [AWS EC2](https://aws.amazon.com/ec2/) instance:\n",
    "1. On the AWS EC2 instance, start Juypter Notebook on port 8888 with the 'no-browser' parameter: `jupyter notebook --no-browser --port=8888`\n",
    "1. On your local machine, forward port 8000 to the remote port 8888 : `ssh -i my-key-pair.pem -L 8000:localhost:8888 my-instance-user-name@my-instance-IPv6-address`\n",
    "1. Now, the Jupyter Notebook can be accessed at `http://localhost:8000` in your local browser.\n",
    "\n",
    "**Important**: [NASA Earthdata Login (EDL)](https://urs.earthdata.nasa.gov/) is required to obtain the S3 temporary credentials and direct access S3 objects bucket. First, set up NASA Earthdata Login authentication using a `.netrc` file. Please refer to the instructions here: https://wiki.earthdata.nasa.gov/display/EL/How+To+Access+Data+With+cURL+And+Wget.\n",
    "\n",
    "In this tutorial, we will retrieve the GEDI L4A dataset from the Earthdata Cloud using direct S3 access.\n",
    "\n",
    "Let's first import some R packages. We will use [geojsonR](https://mlampros.github.io/geojsonR/) to read GeoJSON files, [aws.s3](https://cloud.r-project.org/web/packages/aws.s3/index.html) to for AWS S3 access, and [hdf5r](https://cran.r-project.org/web/packages/hdf5r/index.html) for directly accessing GEDI L4A HDF files from the AWS S3."
   ]
  },
  {
   "cell_type": "code",
   "execution_count": 1,
   "id": "1fd538aa",
   "metadata": {},
   "outputs": [],
   "source": [
    "library(geojsonR)\n",
    "library(aws.s3)\n",
    "library(stringr)\n",
    "library(httr)\n",
    "library(jsonlite)\n",
    "library(hdf5r)"
   ]
  },
  {
   "cell_type": "markdown",
   "id": "64e286b7",
   "metadata": {},
   "source": [
    "We will read an area within the [Sequoia National Park](https://www.nps.gov/seki/index.htm) as a GeoJSON file. The Sequoia National Park in the Sierra Nevada, California, is known for its giant sequoia trees.\n",
    "\n",
    "If an area of interest is already defined as a polygon, the polygon file (geojson, shapefile, or kml) can be used to find overlapping GEDI L4A files. More details about this capability are described on [this page](https://cmr.earthdata.nasa.gov/search/site/docs/search/api.html#c-shapefile).\n",
    "\n",
    "We will query the CMR API to find spatially overlapping GEDI L4A granules."
   ]
  },
  {
   "cell_type": "code",
   "execution_count": 2,
   "id": "3c4ab699",
   "metadata": {
    "scrolled": false
   },
   "outputs": [
    {
     "data": {
      "text/html": [
       "'Total GEDI L4A granules found: 79'"
      ],
      "text/latex": [
       "'Total GEDI L4A granules found: 79'"
      ],
      "text/markdown": [
       "'Total GEDI L4A granules found: 79'"
      ],
      "text/plain": [
       "[1] \"Total GEDI L4A granules found: 79\""
      ]
     },
     "metadata": {},
     "output_type": "display_data"
    }
   ],
   "source": [
    "poly_f <- \"polygons/sequioa_np.geojson\"\n",
    "poly <- FROM_GeoJson(url_file_string = poly_f)\n",
    "# CMR API base url\n",
    "cmrurl <- \"https://cmr.earthdata.nasa.gov/search/\" \n",
    "doi <- \"10.3334/ORNLDAAC/2056\" # GEDI L4A DOI \n",
    "# doi search to get concept_id\n",
    "doisearch <- str_c(cmrurl, \"collections.json?doi=\", doi)\n",
    "r <- GET(doisearch) \n",
    "warn_for_status(r)\n",
    "concept_id <- content(r)$feed$entry[[1]]$id\n",
    "\n",
    "page_num <- 1\n",
    "page_size <- 2000 # CMR page size limit\n",
    "granulesearch <- str_c(cmrurl, \"granules.json\")\n",
    "s3_arr <- c()\n",
    "\n",
    "while (TRUE) {\n",
    "    body <- list('collection_concept_id' = concept_id, \n",
    "             'page_size' = page_size, \n",
    "             'page_num' = page_num, \n",
    "             'shapefile' = upload_file(poly_f, type=\"application/geo+json\"),\n",
    "             'simplify-shapefile' = \"true\")\n",
    "    r <- POST(granulesearch, body = body)\n",
    "    warn_for_status(r)\n",
    "    granules <- content(r)$feed$entry\n",
    "    if (length(granules)){\n",
    "        for (g in granules) {\n",
    "            for (link in g$links){\n",
    "                if (startsWith(link$href, \"s3://\")) {\n",
    "                    s3_arr <- c(s3_arr, link$href)\n",
    "                }\n",
    "            }\n",
    "        }\n",
    "        page_num <- page_num + 1\n",
    "    } else {\n",
    "        break\n",
    "    }\n",
    "}\n",
    "sprintf(\"Total GEDI L4A granules found: %s\", length(s3_arr))"
   ]
  },
  {
   "cell_type": "markdown",
   "id": "6e24e2b2",
   "metadata": {},
   "source": [
    "The `s3_arr` contains a list of `s3` granule links, starting with `s3://`. Let's print the first two items of the `s3_arr`."
   ]
  },
  {
   "cell_type": "code",
   "execution_count": 3,
   "id": "844b2e9e",
   "metadata": {},
   "outputs": [
    {
     "name": "stdout",
     "output_type": "stream",
     "text": [
      "[1] \"s3://ornl-cumulus-prod-protected/gedi/GEDI_L4A_AGB_Density_V2_1/data/GEDI04_A_2019128143946_O02279_03_T04719_02_002_02_V002.h5\"\n",
      "[2] \"s3://ornl-cumulus-prod-protected/gedi/GEDI_L4A_AGB_Density_V2_1/data/GEDI04_A_2019135115649_O02386_03_T01720_02_002_02_V002.h5\"\n"
     ]
    }
   ],
   "source": [
    "print(s3_arr[1:2])"
   ]
  },
  {
   "cell_type": "markdown",
   "id": "aa2f4ec0",
   "metadata": {},
   "source": [
    "Now, let's read the first file in the above list. A temporary S3 Credentials is needed for read-only, same-region, direct access to S3 objects on the Earthdata cloud. Each of the DAACs has its own endpoint. More information about S3 credentials for ORNL DAAC is available at: https://data.ornldaac.earthdata.nasa.gov/s3credentialsREADME. \n",
    "\n",
    "We will now retrieve the credentials for ORNL DAAC for GEDI L4A access. These credentials are temporary and currently valid for one hour. You will first need to set up the `.netrc` and `.urs_cookies` files as described [here](https://wiki.earthdata.nasa.gov/display/EL/How+To+Access+Data+With+cURL+And+Wget)."
   ]
  },
  {
   "cell_type": "code",
   "execution_count": 4,
   "id": "4560f971",
   "metadata": {},
   "outputs": [
    {
     "data": {
      "text/html": [
       "'The S3 credentials will expire on 2022-10-05 19:24:37+00:00 UTC'"
      ],
      "text/latex": [
       "'The S3 credentials will expire on 2022-10-05 19:24:37+00:00 UTC'"
      ],
      "text/markdown": [
       "'The S3 credentials will expire on 2022-10-05 19:24:37+00:00 UTC'"
      ],
      "text/plain": [
       "[1] \"The S3 credentials will expire on 2022-10-05 19:24:37+00:00 UTC\""
      ]
     },
     "metadata": {},
     "output_type": "display_data"
    }
   ],
   "source": [
    "# provide the full paths to the netrc and urs_cookies files\n",
    "netrc_path <- \".netrc\" \n",
    "cookie_path <- \".urs_cookies\"\n",
    "# configuring CURL options\n",
    "set_config(config(followlocation=1, netrc=1, netrc_file=netrc_path,\n",
    "                  cookie=cookie_path, cookiefile=cookie_path, cookiejar=cookie_path))\n",
    "# retrieving ORNL DAAC S3 credentials\n",
    "r <- GET(\"https://data.ornldaac.earthdata.nasa.gov/s3credentials\", accept_json()) \n",
    "warn_for_status(r)\n",
    "s3credentials <- fromJSON(content(r, as = 'text', encoding = 'utf-8'))\n",
    "# printing expiration time\n",
    "sprintf(\"The S3 credentials will expire on %s UTC\", s3credentials$expiration)"
   ]
  },
  {
   "cell_type": "markdown",
   "id": "e5f1c9a3",
   "metadata": {},
   "source": [
    "We will use [aws.s3](https://cloud.r-project.org/web/packages/aws.s3/index.html) for AWS S3 access. We will first set the environment with the S3 credentials."
   ]
  },
  {
   "cell_type": "code",
   "execution_count": 5,
   "id": "4e566e5b",
   "metadata": {
    "scrolled": false
   },
   "outputs": [],
   "source": [
    "Sys.setenv(\"AWS_ACCESS_KEY_ID\" = s3credentials$accessKeyId,\n",
    "           \"AWS_SECRET_ACCESS_KEY\" = s3credentials$secretAccessKey,\n",
    "           \"AWS_DEFAULT_REGION\" = \"us-west-2\",\n",
    "           \"AWS_SESSION_TOKEN\" = s3credentials$sessionToken)"
   ]
  },
  {
   "cell_type": "markdown",
   "id": "515575e6",
   "metadata": {
    "scrolled": true
   },
   "source": [
    "Let's read the first file and print the first-level variable names."
   ]
  },
  {
   "cell_type": "code",
   "execution_count": 6,
   "id": "1679ef29",
   "metadata": {},
   "outputs": [
    {
     "data": {
      "text/html": [
       "<style>\n",
       ".list-inline {list-style: none; margin:0; padding: 0}\n",
       ".list-inline>li {display: inline-block}\n",
       ".list-inline>li:not(:last-child)::after {content: \"\\00b7\"; padding: 0 .5ex}\n",
       "</style>\n",
       "<ol class=list-inline><li>'ANCILLARY'</li><li>'BEAM0000'</li><li>'BEAM0001'</li><li>'BEAM0010'</li><li>'BEAM0011'</li><li>'BEAM0101'</li><li>'BEAM0110'</li><li>'BEAM1000'</li><li>'BEAM1011'</li><li>'METADATA'</li></ol>\n"
      ],
      "text/latex": [
       "\\begin{enumerate*}\n",
       "\\item 'ANCILLARY'\n",
       "\\item 'BEAM0000'\n",
       "\\item 'BEAM0001'\n",
       "\\item 'BEAM0010'\n",
       "\\item 'BEAM0011'\n",
       "\\item 'BEAM0101'\n",
       "\\item 'BEAM0110'\n",
       "\\item 'BEAM1000'\n",
       "\\item 'BEAM1011'\n",
       "\\item 'METADATA'\n",
       "\\end{enumerate*}\n"
      ],
      "text/markdown": [
       "1. 'ANCILLARY'\n",
       "2. 'BEAM0000'\n",
       "3. 'BEAM0001'\n",
       "4. 'BEAM0010'\n",
       "5. 'BEAM0011'\n",
       "6. 'BEAM0101'\n",
       "7. 'BEAM0110'\n",
       "8. 'BEAM1000'\n",
       "9. 'BEAM1011'\n",
       "10. 'METADATA'\n",
       "\n",
       "\n"
      ],
      "text/plain": [
       " [1] \"ANCILLARY\" \"BEAM0000\"  \"BEAM0001\"  \"BEAM0010\"  \"BEAM0011\"  \"BEAM0101\" \n",
       " [7] \"BEAM0110\"  \"BEAM1000\"  \"BEAM1011\"  \"METADATA\" "
      ]
     },
     "metadata": {},
     "output_type": "display_data"
    }
   ],
   "source": [
    "l4a_f <- s3_arr[1]\n",
    "hf <- s3read_using(FUN = H5File$new, object = l4a_f)\n",
    "# printing the first level header\n",
    "hf$ls(recursive=FALSE)$name"
   ]
  },
  {
   "cell_type": "markdown",
   "id": "f04aef57",
   "metadata": {},
   "source": [
    "We will now read the latitude and the AGBD variables of one of the beam (`BEAM0110`) and plot agbd against latitude."
   ]
  },
  {
   "cell_type": "code",
   "execution_count": 7,
   "id": "2af0c2e0",
   "metadata": {},
   "outputs": [
    {
     "data": {
      "image/png": "[encoded data removed]",
      "text/plain": [
       "plot without title"
      ]
     },
     "metadata": {
      "image/png": {
       "height": 420,
       "width": 420
      }
     },
     "output_type": "display_data"
    }
   ],
   "source": [
    "lat <- hf[['BEAM0110']][['lat_lowestmode']][50000:51000]\n",
    "agbd <- hf[['BEAM0110']][['agbd']][50000:51000]\n",
    "df <- do.call(rbind, Map(data.frame, lat_lowestmode=lat, agbd=agbd))\n",
    "# assigning no data values\n",
    "df$agbd[df$agbd == -9999] <- NA\n",
    "# plot\n",
    "plot(x=df$lat, y=df$agbd)"
   ]
  },
  {
   "cell_type": "markdown",
   "id": "eeeb4b81",
   "metadata": {},
   "source": [
    "Now let's close the HDF file"
   ]
  },
  {
   "cell_type": "code",
   "execution_count": 8,
   "id": "7aa4bb3d",
   "metadata": {},
   "outputs": [],
   "source": [
    "hf$close_all()"
   ]
  }
 ],
 "metadata": {
  "kernelspec": {
   "display_name": "R",
   "language": "R",
   "name": "ir"
  },
  "language_info": {
   "codemirror_mode": "r",
   "file_extension": ".r",
   "mimetype": "text/x-r-source",
   "name": "R",
   "pygments_lexer": "r",
   "version": "4.0.2"
  }
 },
 "nbformat": 4,
 "nbformat_minor": 5
}
